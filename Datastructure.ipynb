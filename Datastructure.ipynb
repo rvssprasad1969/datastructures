{
 "cells": [
  {
   "cell_type": "code",
   "execution_count": 6,
   "id": "a894d54d-0807-454c-ad5e-b44387fa193c",
   "metadata": {},
   "outputs": [
    {
     "data": {
      "text/plain": [
       "'#\\x14 1. Discuss string slicing and provide examples?\\n\\n# Answer:\\nString slicing in Python allows to extract a portion of a string by specifying a start and end inde \\nFor example, with the string my_string = \"Hello, World!\", if you use my_string[7:12], it will return \"World\". If you omit start, it starts from the beginning of the string.\\n\\n'"
      ]
     },
     "execution_count": 6,
     "metadata": {},
     "output_type": "execute_result"
    }
   ],
   "source": [
    "\"\"\"#\u0014 1. Discuss string slicing and provide examples?\n",
    "\n",
    "# Answer:\n",
    "String slicing in Python allows to extract a portion of a string by specifying a start and end inde \n",
    "For example, with the string my_string = \"Hello, World!\", if you use my_string[7:12], it will return \"World\". If you omit start, it starts from the beginning of the string.\n",
    "\n",
    "\"\"\""
   ]
  },
  {
   "cell_type": "code",
   "execution_count": 2,
   "id": "3511c8a5-18de-4015-8d1c-738d5580b31a",
   "metadata": {},
   "outputs": [],
   "source": [
    "my_string=\"Hello World\""
   ]
  },
  {
   "cell_type": "code",
   "execution_count": 3,
   "id": "98e8a0f3-5a96-4a2e-9227-eaadc716f0f3",
   "metadata": {},
   "outputs": [
    {
     "data": {
      "text/plain": [
       "'l'"
      ]
     },
     "execution_count": 3,
     "metadata": {},
     "output_type": "execute_result"
    }
   ],
   "source": [
    "my_string[2:3]"
   ]
  },
  {
   "cell_type": "code",
   "execution_count": 5,
   "id": "7a6cf2db-16e3-4e97-b713-0204417d579c",
   "metadata": {},
   "outputs": [
    {
     "data": {
      "text/plain": [
       "'\\n2. Explain the key features of list in python\\n\\nAns. \\nists are mutable and dynamic; list items can be added, removed or changed after the list is defined. Lists are ordered; newly added items will be placed at the end of the list.'"
      ]
     },
     "execution_count": 5,
     "metadata": {},
     "output_type": "execute_result"
    }
   ],
   "source": [
    "\"\"\"\n",
    "2. Explain the key features of list in python\n",
    "\n",
    "Ans. \n",
    " Lists are mutable and dynamic; list items can be added, removed or changed after the list is defined. Lists are ordered; newly added items will be placed at the end of the list.\"\"\""
   ]
  },
  {
   "cell_type": "code",
   "execution_count": 7,
   "id": "4eb3db6d-8c14-456e-8e04-c6fcb9bd0217",
   "metadata": {},
   "outputs": [
    {
     "data": {
      "text/plain": [
       "'\\n3. \\n3.Describe how to access  modify and delete elements in  a list with examples\\n\\n\\nAccess\\n\\nThe syntax for accessing the elements of a list is the same as the syntax for accessing the characters of a string. We use the index operator ( [] –  The expression inside the brackets specifies the index.\\n\\nDelete\\n\\nWe can assign an element to the list using index to update.\\nThere are multiple functions to delete elements from list. remove - delete the first occurrence of the element from the list. pop - delete the element from the list using index.\\n\\nModify\\nYou can modify the content of a list as needed with Python. Modifying a list means to change a particular entry, add a new entry, or remove an existing entry. \\n\\nappend(): Adds a new entry to the end of the list.\\n\\nclear(): Removes all entries from the list.\\n\\ncopy(): Creates a copy of the current list and places it in a new list.\\n\\nextend(): Adds items from an existing list and into the current list.\\n\\ninsert(): Adds a new entry to the position specified in the list.\\n\\npop(): Removes an entry from the end of the list.\\n\\nremove(): Removes an entry from the specified position in the list. '"
      ]
     },
     "execution_count": 7,
     "metadata": {},
     "output_type": "execute_result"
    }
   ],
   "source": [
    "\"\"\"\n",
    "3. \n",
    "3.Describe how to access  modify and delete elements in  a list with examples\n",
    "\n",
    "\n",
    "Access\n",
    "\n",
    "The syntax for accessing the elements of a list is the same as the syntax for accessing the characters of a string. We use the index operator ( [] –  The expression inside the brackets specifies the index.\n",
    "\n",
    "Delete\n",
    "\n",
    "We can assign an element to the list using index to update.\n",
    "There are multiple functions to delete elements from list. remove - delete the first occurrence of the element from the list. pop - delete the element from the list using index.\n",
    "\n",
    "Modify\n",
    "You can modify the content of a list as needed with Python. Modifying a list means to change a particular entry, add a new entry, or remove an existing entry. \n",
    "\n",
    "append(): Adds a new entry to the end of the list.\n",
    "\n",
    "clear(): Removes all entries from the list.\n",
    "\n",
    "copy(): Creates a copy of the current list and places it in a new list.\n",
    "\n",
    "extend(): Adds items from an existing list and into the current list.\n",
    "\n",
    "insert(): Adds a new entry to the position specified in the list.\n",
    "\n",
    "pop(): Removes an entry from the end of the list.\n",
    "\n",
    "remove(): Removes an entry from the specified position in the list. \"\"\""
   ]
  },
  {
   "cell_type": "code",
   "execution_count": 8,
   "id": "aa06617f-6ad7-4ca3-b9f0-d55b4413aa33",
   "metadata": {},
   "outputs": [
    {
     "data": {
      "text/plain": [
       "'4. Compare and contrast tuple and list \\n\\nList are mutable. it is enclosd in Square brackets. elements lenght can be changed  and new element can be added. elements order is preseved. it is used to store information that needs to be modified or changed over time. elements can be added removed and modified\\n\\nabc=[1,2,3,4]\\n\\nTupple are immutable, enclsoed in () bracket, length is fixed. new elements cant be added \\nelements are in order , it is used to store information that doent need to alter over time. it is more efficient and faster to access than the list\\n\\nabc=(1,2,3,4)\\n'"
      ]
     },
     "execution_count": 8,
     "metadata": {},
     "output_type": "execute_result"
    }
   ],
   "source": [
    "\"\"\"4. Compare and contrast tuple and list \n",
    "\n",
    "List are mutable. it is enclosd in Square brackets. elements lenght can be changed  and new element can be added. elements order is preseved. it is used to store information that needs to be modified or changed over time. elements can be added removed and modified\n",
    "\n",
    "abc=[1,2,3,4]\n",
    "\n",
    "Tupple are immutable, enclsoed in () bracket, length is fixed. new elements cant be added \n",
    "elements are in order , it is used to store information that doent need to alter over time. it is more efficient and faster to access than the list\n",
    "\n",
    "abc=(1,2,3,4)\n",
    "\"\"\""
   ]
  },
  {
   "cell_type": "code",
   "execution_count": 9,
   "id": "42fcd2c0-4a53-46b1-b8ce-f960e49b1b73",
   "metadata": {},
   "outputs": [
    {
     "data": {
      "text/plain": [
       "'5. Describe the key features of sets and provide examples of the sets\\n\\nSets are unordered.Set elements are unique. Duplicate elements are not allowed.\\nA set itself may be modified, but the elements contained in the set must be of an immutable type\\n\\nA={1,2,3,4}'"
      ]
     },
     "execution_count": 9,
     "metadata": {},
     "output_type": "execute_result"
    }
   ],
   "source": [
    "\"\"\"5. Describe the key features of sets and provide examples of the sets\n",
    "\n",
    "Sets are unordered.Set elements are unique. Duplicate elements are not allowed.\n",
    "A set itself may be modified, but the elements contained in the set must be of an immutable type\n",
    "\n",
    "A={1,2,3,4}\"\"\""
   ]
  },
  {
   "cell_type": "code",
   "execution_count": 10,
   "id": "1a56eb7b-530f-41e1-827a-6287bbee85e1",
   "metadata": {},
   "outputs": [
    {
     "data": {
      "text/plain": [
       "\"6. \\n1. Disc\\x1ess the \\x1eusse cases of tu\\x1eples and sets in Python programming\\n\\n\\n\\nTuple. Tuples are used to store multiple items in a single variable.\\nTuple is a collection which is ordered and unchangeable. example is employee roll not which can';t be changed in such cases we use Tuple\\n\\n\\nPython Set is an unordered collection of unique elements. \\nSuppose you have a list and you need only the unique items of the list you can use Python Set\""
      ]
     },
     "execution_count": 10,
     "metadata": {},
     "output_type": "execute_result"
    }
   ],
   "source": [
    "\"\"\"6. \n",
    "1. Disc\u001e",
    "ss the \u001e",
    "usse cases of tu\u001e",
    "ples and sets in Python programming\n",
    "\n",
    "\n",
    "\n",
    "Tuple. Tuples are used to store multiple items in a single variable.\n",
    "Tuple is a collection which is ordered and unchangeable. example is employee roll not which can';t be changed in such cases we use Tuple\n",
    "\n",
    "\n",
    "Python Set is an unordered collection of unique elements. \n",
    "Suppose you have a list and you need only the unique items of the list you can use Python Set\"\"\""
   ]
  },
  {
   "cell_type": "code",
   "execution_count": 11,
   "id": "21f4be79-4fa3-4e4b-809c-9d999b77ae85",
   "metadata": {},
   "outputs": [
    {
     "data": {
      "text/plain": [
       "\"7.\\n\\nDescribe how to add modify and delete items in a dictionary with examples?\\n\\nA Python dictionary is a data structure that stores key/value pairs to provide information about the structure\\n\\ndictionary_name = {key_1: value_1, key_2: value_2, key_3: value_3}\\n\\n\\nmy_dict = dict({1:'One', 2:'Two'})\\nprint(my_dict)\\n\\n\\nmy_dict = {'Name': 'Sean', 'Age': 24, 'Hobby': 'Dancing', 'City': 'NY'}\\n\\n# using square brackets\\nprint(my_dict['Name'])\\nprint(my_dict['Age'])\\n\\n\\n                    \\n# Python program to update/add elements in a dictionary\\nmy_dict = {'Car': 'Audi', 'Bike': 'Honda'}\\nprint('Original Dictionary:', my_dict)\\n\\n# updating value of an existing key\\nmy_dict['Bike'] = 'Ducati'\\nprint('Updated Dictionary:', my_dict)\\n\\n# adding new value\\nmy_dict['Plane'] = 'Boeing'\\nprint('Updated Dictionary:', my_dict)\\n\\nOutput\\n\\nOriginal Dictionary: {'Car': 'Audi', 'Bike': 'Honda'}\\nUpdated Dictionary: {'Car': 'Audi', 'Bike': 'Ducati'}\\nUpdated Dictionary: {'Car': 'Audi', 'Bike': 'Ducati', 'Plane': 'Boeing'}\\n\\nremoving\\n# Python program to remove/delete elements from a dictionary\\nmy_dict = {1: 'One', 2: 'Two', 3: 'Three', 4: 'Four', 5: 'Five'}\\nprint('Original Dictionary:', my_dict)\\n\\n# removing single element\\nprint(my_dict.pop(4))\\nprint('Updated Dictionary:', my_dict)\""
      ]
     },
     "execution_count": 11,
     "metadata": {},
     "output_type": "execute_result"
    }
   ],
   "source": [
    "\"\"\"7.\n",
    "\n",
    "Describe how to add modify and delete items in a dictionary with examples?\n",
    "\n",
    "A Python dictionary is a data structure that stores key/value pairs to provide information about the structure\n",
    "\n",
    "dictionary_name = {key_1: value_1, key_2: value_2, key_3: value_3}\n",
    "\n",
    "\n",
    "my_dict = dict({1:'One', 2:'Two'})\n",
    "print(my_dict)\n",
    "\n",
    "\n",
    "my_dict = {'Name': 'Sean', 'Age': 24, 'Hobby': 'Dancing', 'City': 'NY'}\n",
    "\n",
    "# using square brackets\n",
    "print(my_dict['Name'])\n",
    "print(my_dict['Age'])\n",
    "\n",
    "\n",
    "                    \n",
    "# Python program to update/add elements in a dictionary\n",
    "my_dict = {'Car': 'Audi', 'Bike': 'Honda'}\n",
    "print('Original Dictionary:', my_dict)\n",
    "\n",
    "# updating value of an existing key\n",
    "my_dict['Bike'] = 'Ducati'\n",
    "print('Updated Dictionary:', my_dict)\n",
    "\n",
    "# adding new value\n",
    "my_dict['Plane'] = 'Boeing'\n",
    "print('Updated Dictionary:', my_dict)\n",
    "\n",
    "Output\n",
    "\n",
    "Original Dictionary: {'Car': 'Audi', 'Bike': 'Honda'}\n",
    "Updated Dictionary: {'Car': 'Audi', 'Bike': 'Ducati'}\n",
    "Updated Dictionary: {'Car': 'Audi', 'Bike': 'Ducati', 'Plane': 'Boeing'}\n",
    "\n",
    "removing\n",
    "# Python program to remove/delete elements from a dictionary\n",
    "my_dict = {1: 'One', 2: 'Two', 3: 'Three', 4: 'Four', 5: 'Five'}\n",
    "print('Original Dictionary:', my_dict)\n",
    "\n",
    "# removing single element\n",
    "print(my_dict.pop(4))\n",
    "print('Updated Dictionary:', my_dict)\"\"\""
   ]
  },
  {
   "cell_type": "code",
   "execution_count": null,
   "id": "381fea03-d8e1-42a2-b2e8-b3fde522a5dd",
   "metadata": {},
   "outputs": [],
   "source": []
  }
 ],
 "metadata": {
  "kernelspec": {
   "display_name": "Python 3 (ipykernel)",
   "language": "python",
   "name": "python3"
  },
  "language_info": {
   "codemirror_mode": {
    "name": "ipython",
    "version": 3
   },
   "file_extension": ".py",
   "mimetype": "text/x-python",
   "name": "python",
   "nbconvert_exporter": "python",
   "pygments_lexer": "ipython3",
   "version": "3.10.8"
  }
 },
 "nbformat": 4,
 "nbformat_minor": 5
}
